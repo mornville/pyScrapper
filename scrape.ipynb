{
 "cells": [
  {
   "cell_type": "code",
   "execution_count": 44,
   "metadata": {},
   "outputs": [],
   "source": [
    "from googlesearch import search\n",
    "import pandas as pd"
   ]
  },
  {
   "cell_type": "code",
   "execution_count": 45,
   "metadata": {},
   "outputs": [],
   "source": [
    "file = pd.read_csv('test1.csv')"
   ]
  },
  {
   "cell_type": "code",
   "execution_count": 46,
   "metadata": {},
   "outputs": [],
   "source": [
    "result = []"
   ]
  },
  {
   "cell_type": "code",
   "execution_count": 47,
   "metadata": {},
   "outputs": [],
   "source": [
    "for idx, query in enumerate(file['queries']):\n",
    "    ## Flag to check whether a link was found or not\n",
    "    flag = 0\n",
    "    for url in search(query, tld=\"com\", num=10,start=0, stop=3, pause=2):\n",
    "        keywords = url.split('.')\n",
    "        try:\n",
    "            ## checking if the query is in starting of the url found or not, if not move to other urls.\n",
    "            if keywords.index(query) < 2:\n",
    "                result.append(url)\n",
    "                flag = 1\n",
    "                break\n",
    "        except:\n",
    "            pass\n",
    "\n",
    "    if flag == 0:\n",
    "        result.append('')\n",
    "        \n",
    "    \n"
   ]
  },
  {
   "cell_type": "code",
   "execution_count": 48,
   "metadata": {},
   "outputs": [],
   "source": [
    "file = pd.DataFrame({\"query:\":file['queries'], \"url\": result}) \n",
    "file.to_csv('answer.csv')   "
   ]
  },
  {
   "cell_type": "code",
   "execution_count": null,
   "metadata": {},
   "outputs": [],
   "source": []
  }
 ],
 "metadata": {
  "kernelspec": {
   "display_name": "Python 3",
   "language": "python",
   "name": "python3"
  },
  "language_info": {
   "codemirror_mode": {
    "name": "ipython",
    "version": 3
   },
   "file_extension": ".py",
   "mimetype": "text/x-python",
   "name": "python",
   "nbconvert_exporter": "python",
   "pygments_lexer": "ipython3",
   "version": "3.8.5"
  }
 },
 "nbformat": 4,
 "nbformat_minor": 4
}
